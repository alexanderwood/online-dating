{
 "cells": [
  {
   "cell_type": "code",
   "execution_count": 1,
   "metadata": {},
   "outputs": [],
   "source": [
    "import os\n",
    "\n",
    "import pandas as pd\n",
    "import numpy as np\n",
    "\n",
    "import seaborn as sns\n",
    "import matplotlib.pyplot as plt\n",
    "plt.rcParams['figure.figsize'] = [10, 5]"
   ]
  },
  {
   "cell_type": "markdown",
   "metadata": {},
   "source": [
    "Run the following cells to import modules and download the data set, or download the dataset [here](http://www.stat.columbia.edu/~gelman/arm/examples/speed.dating/(."
   ]
  },
  {
   "cell_type": "code",
   "execution_count": 2,
   "metadata": {},
   "outputs": [],
   "source": [
    "if not os.path.exists('data'):\n",
    "    os.makedirs('data')"
   ]
  },
  {
   "cell_type": "code",
   "execution_count": 3,
   "metadata": {},
   "outputs": [
    {
     "name": "stdout",
     "output_type": "stream",
     "text": [
      "dyld: Library not loaded: /usr/local/opt/openssl/lib/libssl.1.0.0.dylib\r\n",
      "  Referenced from: /usr/local/bin/wget\r\n",
      "  Reason: image not found\r\n"
     ]
    }
   ],
   "source": [
    "!wget -nc -O data/dating-data.csv http://www.stat.columbia.edu/~gelman/arm/examples/speed.dating/Speed%20Dating%20Data.csv"
   ]
  },
  {
   "cell_type": "markdown",
   "metadata": {},
   "source": [
    "# Data Science: Dating Dataset Analysis\n",
    "\n",
    "Dating has undergone major overhauls in the past decades, first with the introduction of online dating and again with the rise of dating apps. Apps such as Tinder, Bumble, Hinge, OKCupid, and more all have the same goal: to facilitate successful romantic connections. Success is a difficult metric to define in such a nebulous scenario, and some artificial metric must be imposed. For example, OKCupid has performed data analyses with success defined as a certain number of messages being exchanged back and forth between users.\n",
    "\n",
    "A common method of \"matching\" with a potential date on these apps. In this scenario users swipe left to reject another user and right to accept. From here, people are able to message and interact. For heterosexual couples, apps like Bumble require the woman to first accept a message request from any male suitor. On Hinge, you don't swipe right, but rather send a \"like\" on some aspect of a potential date's profile.\n",
    "\n",
    "Despite variation across different apps, these swipe-based dating platforms all share the same flow:\n",
    "1. Users quickly evaluate each other.\n",
    "1. Users make a fast decision on whether or not to open up discussion with each other.\n",
    "1. Users proceed to talk and possibly go on an in-person date.\n",
    "\n",
    "An old-school form of meeting people, the Speed Dating event, follows this same general format. Instead of performing evaluation based on a user-setup profile, users reach their decision in a short several-minute timespan talking with multiple potential matches. At the end of the event, matches can choose to exchange information (swiping left) or not (swiping right). In these cases, success can be defined as a follow-up date between two interested parties. "
   ]
  },
  {
   "cell_type": "markdown",
   "metadata": {},
   "source": [
    "## The Proposed Challenge\n",
    "\n",
    "### Motivation\n",
    "\n",
    "Plenty of research has been done on studying online interactions between users to try and optimize successful romantic connections. However, in the post-coronavirus world, different forms of communicating have taken hold. It is now common for folks to have virtual happy hours, virtual watch parties, and even video dates. \n",
    "\n",
    "How can dating be revolutionized for a post-coronavirus society? I suggest we look back to the old school and ask what lessons we can learn from the speed dating event. When is a speed dating even successful, and what kind of personalities perform best at these events? How can these lessons be applied to swipe-based dating? Would a new service, such as virtual speed-dating, be a potential method for deeper emotional connections between users and successful matches?\n",
    "\n",
    "### The Dataset\n",
    "\n",
    "Colombia University professors Ray Fisman adn Sheena Iyengar [ran a series of speed dating experiments](http://www.stat.columbia.edu/~gelman/arm/examples/speed.dating/) on Columbia graduate students from 2002 to 2004, and have made this data public. They collected details before, during, and after the event, and followed up with participants to evaluate longer-term success rates. All matches were between men and women (no same-sex matches). \n",
    "\n",
    "Twenty-one different speed dating events were held with a total of 552 different individuals attending. Before each event, demographic information such as the subject's field of study, undegraduate alma mater, SAT score, zip code of childhood home, where the subject is from, median household income, race, and gender were collected. A series of preferential questions were also asked:\n",
    "1. How important is it to you (on a scale of 1-10) that a person you date be of the same racial/ethnic background?\n",
    "1. How important is it to you (on a scale of 1-10) that a person you date be of the same religious background?\n",
    "\n",
    "Next, questions regarding the expectations of the participants were asked. The details of these questions can be seen in the data key. \n",
    "\n",
    "### The Analysis\n",
    "\n",
    "Participants were given surveys on the attributes of the types of people they think they would be romantically interested in. They were also given surveys on their attitude about how likely they were to meet someone and general outlook on the event. These questionaires were given before the event, halfway through the event, and after the event.\n",
    "\n",
    "Do participants' attitudes change thorughout the event? How does the initial attitude of a participant effect their ability to go on dates, and how does that compare to their final attitude? Can this initial attitude predict match success? "
   ]
  },
  {
   "cell_type": "markdown",
   "metadata": {},
   "source": [
    "## Data Exploration\n",
    "\n",
    "First let's do some exploratory analysis of the data. The first step is to load it up into a Pandas dataframe. "
   ]
  },
  {
   "cell_type": "code",
   "execution_count": 11,
   "metadata": {},
   "outputs": [
    {
     "data": {
      "text/html": [
       "<div>\n",
       "<style scoped>\n",
       "    .dataframe tbody tr th:only-of-type {\n",
       "        vertical-align: middle;\n",
       "    }\n",
       "\n",
       "    .dataframe tbody tr th {\n",
       "        vertical-align: top;\n",
       "    }\n",
       "\n",
       "    .dataframe thead th {\n",
       "        text-align: right;\n",
       "    }\n",
       "</style>\n",
       "<table border=\"1\" class=\"dataframe\">\n",
       "  <thead>\n",
       "    <tr style=\"text-align: right;\">\n",
       "      <th></th>\n",
       "      <th>age</th>\n",
       "      <th>age_o</th>\n",
       "      <th>amb</th>\n",
       "      <th>amb1_1</th>\n",
       "      <th>amb1_2</th>\n",
       "      <th>amb1_3</th>\n",
       "      <th>amb1_s</th>\n",
       "      <th>amb2_1</th>\n",
       "      <th>amb2_2</th>\n",
       "      <th>amb2_3</th>\n",
       "      <th>...</th>\n",
       "      <th>theater</th>\n",
       "      <th>them_cal</th>\n",
       "      <th>tuition</th>\n",
       "      <th>tv</th>\n",
       "      <th>tvsports</th>\n",
       "      <th>undergra</th>\n",
       "      <th>wave</th>\n",
       "      <th>yoga</th>\n",
       "      <th>you_call</th>\n",
       "      <th>zipcode</th>\n",
       "    </tr>\n",
       "  </thead>\n",
       "  <tbody>\n",
       "    <tr>\n",
       "      <th>0</th>\n",
       "      <td>21.0</td>\n",
       "      <td>27.0</td>\n",
       "      <td>6.0</td>\n",
       "      <td>15.0</td>\n",
       "      <td>11.11</td>\n",
       "      <td>15.0</td>\n",
       "      <td>NaN</td>\n",
       "      <td>5.0</td>\n",
       "      <td>NaN</td>\n",
       "      <td>NaN</td>\n",
       "      <td>...</td>\n",
       "      <td>1.0</td>\n",
       "      <td>1.0</td>\n",
       "      <td>NaN</td>\n",
       "      <td>9.0</td>\n",
       "      <td>2.0</td>\n",
       "      <td>NaN</td>\n",
       "      <td>1</td>\n",
       "      <td>1.0</td>\n",
       "      <td>1.0</td>\n",
       "      <td>60,521</td>\n",
       "    </tr>\n",
       "    <tr>\n",
       "      <th>1</th>\n",
       "      <td>21.0</td>\n",
       "      <td>22.0</td>\n",
       "      <td>5.0</td>\n",
       "      <td>15.0</td>\n",
       "      <td>11.11</td>\n",
       "      <td>15.0</td>\n",
       "      <td>NaN</td>\n",
       "      <td>5.0</td>\n",
       "      <td>NaN</td>\n",
       "      <td>NaN</td>\n",
       "      <td>...</td>\n",
       "      <td>1.0</td>\n",
       "      <td>1.0</td>\n",
       "      <td>NaN</td>\n",
       "      <td>9.0</td>\n",
       "      <td>2.0</td>\n",
       "      <td>NaN</td>\n",
       "      <td>1</td>\n",
       "      <td>1.0</td>\n",
       "      <td>1.0</td>\n",
       "      <td>60,521</td>\n",
       "    </tr>\n",
       "    <tr>\n",
       "      <th>2</th>\n",
       "      <td>21.0</td>\n",
       "      <td>22.0</td>\n",
       "      <td>5.0</td>\n",
       "      <td>15.0</td>\n",
       "      <td>11.11</td>\n",
       "      <td>15.0</td>\n",
       "      <td>NaN</td>\n",
       "      <td>5.0</td>\n",
       "      <td>NaN</td>\n",
       "      <td>NaN</td>\n",
       "      <td>...</td>\n",
       "      <td>1.0</td>\n",
       "      <td>1.0</td>\n",
       "      <td>NaN</td>\n",
       "      <td>9.0</td>\n",
       "      <td>2.0</td>\n",
       "      <td>NaN</td>\n",
       "      <td>1</td>\n",
       "      <td>1.0</td>\n",
       "      <td>1.0</td>\n",
       "      <td>60,521</td>\n",
       "    </tr>\n",
       "    <tr>\n",
       "      <th>3</th>\n",
       "      <td>21.0</td>\n",
       "      <td>23.0</td>\n",
       "      <td>6.0</td>\n",
       "      <td>15.0</td>\n",
       "      <td>11.11</td>\n",
       "      <td>15.0</td>\n",
       "      <td>NaN</td>\n",
       "      <td>5.0</td>\n",
       "      <td>NaN</td>\n",
       "      <td>NaN</td>\n",
       "      <td>...</td>\n",
       "      <td>1.0</td>\n",
       "      <td>1.0</td>\n",
       "      <td>NaN</td>\n",
       "      <td>9.0</td>\n",
       "      <td>2.0</td>\n",
       "      <td>NaN</td>\n",
       "      <td>1</td>\n",
       "      <td>1.0</td>\n",
       "      <td>1.0</td>\n",
       "      <td>60,521</td>\n",
       "    </tr>\n",
       "    <tr>\n",
       "      <th>4</th>\n",
       "      <td>21.0</td>\n",
       "      <td>24.0</td>\n",
       "      <td>6.0</td>\n",
       "      <td>15.0</td>\n",
       "      <td>11.11</td>\n",
       "      <td>15.0</td>\n",
       "      <td>NaN</td>\n",
       "      <td>5.0</td>\n",
       "      <td>NaN</td>\n",
       "      <td>NaN</td>\n",
       "      <td>...</td>\n",
       "      <td>1.0</td>\n",
       "      <td>1.0</td>\n",
       "      <td>NaN</td>\n",
       "      <td>9.0</td>\n",
       "      <td>2.0</td>\n",
       "      <td>NaN</td>\n",
       "      <td>1</td>\n",
       "      <td>1.0</td>\n",
       "      <td>1.0</td>\n",
       "      <td>60,521</td>\n",
       "    </tr>\n",
       "  </tbody>\n",
       "</table>\n",
       "<p>5 rows × 195 columns</p>\n",
       "</div>"
      ],
      "text/plain": [
       "    age  age_o  amb  amb1_1  amb1_2  amb1_3  amb1_s  amb2_1  amb2_2  amb2_3  \\\n",
       "0  21.0   27.0  6.0    15.0   11.11    15.0     NaN     5.0     NaN     NaN   \n",
       "1  21.0   22.0  5.0    15.0   11.11    15.0     NaN     5.0     NaN     NaN   \n",
       "2  21.0   22.0  5.0    15.0   11.11    15.0     NaN     5.0     NaN     NaN   \n",
       "3  21.0   23.0  6.0    15.0   11.11    15.0     NaN     5.0     NaN     NaN   \n",
       "4  21.0   24.0  6.0    15.0   11.11    15.0     NaN     5.0     NaN     NaN   \n",
       "\n",
       "   ...  theater  them_cal  tuition   tv  tvsports  undergra  wave  yoga  \\\n",
       "0  ...      1.0       1.0      NaN  9.0       2.0       NaN     1   1.0   \n",
       "1  ...      1.0       1.0      NaN  9.0       2.0       NaN     1   1.0   \n",
       "2  ...      1.0       1.0      NaN  9.0       2.0       NaN     1   1.0   \n",
       "3  ...      1.0       1.0      NaN  9.0       2.0       NaN     1   1.0   \n",
       "4  ...      1.0       1.0      NaN  9.0       2.0       NaN     1   1.0   \n",
       "\n",
       "   you_call  zipcode  \n",
       "0       1.0   60,521  \n",
       "1       1.0   60,521  \n",
       "2       1.0   60,521  \n",
       "3       1.0   60,521  \n",
       "4       1.0   60,521  \n",
       "\n",
       "[5 rows x 195 columns]"
      ]
     },
     "execution_count": 11,
     "metadata": {},
     "output_type": "execute_result"
    }
   ],
   "source": [
    "def load_data():\n",
    "    df = pd.read_csv(\"data/dating-data.csv\", encoding='latin1')\n",
    "    # Remove columns with no information.\n",
    "    drop_cols = [col for col in df.columns if df[col].value_counts().shape[0] <= 1]\n",
    "    df = df[df.columns.difference(drop_cols)]\n",
    "    return df\n",
    "\n",
    "df = load_data()\n",
    "df.head()"
   ]
  },
  {
   "cell_type": "markdown",
   "metadata": {},
   "source": [
    "There are multiple potential target variables in this data set. A good short-term target is whether or not two participants matched during the event, meaning they chose each other and were eligible to receive each others' contact information. However, I am interested in something deeper: Not just whether participants matched, but whether they *contacted each other*.\n",
    "\n",
    "So I would like to look at the long-term outcomes. Long-term target variables in this data set, or the outcomes, were collected 3-4 weeks after subjects had been sent their matches. These variables are:\n",
    "* `you_call`: How many matches has the subject contacted to set up a date?\n",
    "* `them_cal`: How many have contacted the subject?\n",
    "* `date_3`: Have you been on a date with any matches? (Yes = 1, no = 2)\n",
    "* `numdat_3`: How many matches have you been on a date with so far?\n",
    "\n",
    "We have 195 total columns in the table. Looking at the data key, we see that data includes information such as:\n",
    " * `iid`: Unique identifier for each separate subject.\n",
    " * `id`: Subject number within a speed dating event, or \"wave\".\n",
    " * `idg`: Subject number within their gender group. "
   ]
  },
  {
   "cell_type": "markdown",
   "metadata": {},
   "source": [
    "### Demographics\n",
    "\n",
    "First let's look at some demographic information. "
   ]
  },
  {
   "cell_type": "code",
   "execution_count": 12,
   "metadata": {},
   "outputs": [
    {
     "data": {
      "text/plain": [
       "Text(0.5, 1.0, 'Count of particpants by gender')"
      ]
     },
     "execution_count": 12,
     "metadata": {},
     "output_type": "execute_result"
    },
    {
     "data": {
      "image/png": "[encoded data removed]",
      "text/plain": [
       "<Figure size 720x360 with 1 Axes>"
      ]
     },
     "metadata": {
      "needs_background": "light"
     },
     "output_type": "display_data"
    }
   ],
   "source": [
    "ax = df.gender.value_counts().plot.bar()\n",
    "ax.set_xticklabels([\"Women\", \"Men\"], rotation=0)\n",
    "plt.title(\"Count of particpants by gender\")"
   ]
  },
  {
   "cell_type": "markdown",
   "metadata": {},
   "source": [
    "The number of men and women participating is similar, as expected. \n",
    "\n",
    "\n",
    "### Questionaire Answers\n",
    "\n",
    "Let's look at subjects' answers to some of the initial questions they were asked."
   ]
  },
  {
   "cell_type": "code",
   "execution_count": 13,
   "metadata": {},
   "outputs": [],
   "source": [
    "def agg_plot(question, attribute, groupby, answer_key, legend_vals):\n",
    "    pltdat = df.groupby([groupby]).agg(dat_count=(attribute,'value_counts'))\n",
    "    pltdat = pltdat.reset_index()\n",
    "\n",
    "    ax = sns.barplot(x=attribute, y='dat_count', hue=groupby, data=pltdat)\n",
    "    plt.title(question)\n",
    "    ax.set_xlabel(attribute)\n",
    "    ax.set_ylabel('Number Of Occurences')\n",
    "    ax.set_xticklabels(answer_key, rotation=90)\n",
    "    \n",
    "    for a,b in zip(ax.axes.get_legend().texts, legend_vals): a.set_text(b)\n",
    "        \n",
    "        "
   ]
  },
  {
   "cell_type": "code",
   "execution_count": 14,
   "metadata": {},
   "outputs": [
    {
     "data": {
      "image/png": "[encoded data removed]",
      "text/plain": [
       "<Figure size 720x360 with 1 Axes>"
      ]
     },
     "metadata": {
      "needs_background": "light"
     },
     "output_type": "display_data"
    }
   ],
   "source": [
    "question=\"What is your primary goal in participating in this event?\"\n",
    "answers=['Seemed fun', 'Meet new people', 'Get a date', 'Want LTR', 'To say I did it','Other']\n",
    "new_legend=['Men','Women']\n",
    "agg_plot(question, 'goal', \"gender\", answers, new_legend)"
   ]
  },
  {
   "cell_type": "markdown",
   "metadata": {},
   "source": [
    "The vast majority of participants of both genders participated because it seemed like it would be fun or because they wanted to meet new people. Relatively few participated with the express purpose of finding a date, and even fewer with the goal of finding a long-term relationship."
   ]
  },
  {
   "cell_type": "code",
   "execution_count": 15,
   "metadata": {},
   "outputs": [
    {
     "data": {
      "image/png": "[encoded data removed]",
      "text/plain": [
       "<Figure size 720x360 with 1 Axes>"
      ]
     },
     "metadata": {
      "needs_background": "light"
     },
     "output_type": "display_data"
    }
   ],
   "source": [
    "question = \"In general, how frequently do you go on dates?\"\n",
    "answers = ['Several times a week', 'Twice a week', 'Once a week', 'Twice a mont', 'Once a month', 'Several times a year', 'Almost never']\n",
    "agg_plot(question, 'date', 'gender', answers, new_legend)"
   ]
  },
  {
   "cell_type": "markdown",
   "metadata": {},
   "source": [
    "There's a few superstar daters, going on dates multiple times a week. Most participants claim to go on dates twice a month or less.\n",
    "\n",
    "Alright, let's move on.\n"
   ]
  },
  {
   "cell_type": "markdown",
   "metadata": {},
   "source": [
    "### Outcomes"
   ]
  },
  {
   "cell_type": "code",
   "execution_count": 16,
   "metadata": {},
   "outputs": [
    {
     "data": {
      "image/png": "[encoded data removed]",
      "text/plain": [
       "<Figure size 720x360 with 1 Axes>"
      ]
     },
     "metadata": {
      "needs_background": "light"
     },
     "output_type": "display_data"
    }
   ],
   "source": [
    "question = \"How many matches have you contacted to set up a date?\"\n",
    "answers = df.you_call.unique()\n",
    "answers.sort()\n",
    "agg_plot(question, 'you_call', \"gender\", answers, new_legend)"
   ]
  },
  {
   "cell_type": "markdown",
   "metadata": {},
   "source": [
    "First thing we notice is that men were far less likely to contact dates.\n"
   ]
  },
  {
   "cell_type": "code",
   "execution_count": 17,
   "metadata": {},
   "outputs": [
    {
     "data": {
      "image/png": "[encoded data removed]",
      "text/plain": [
       "<Figure size 720x360 with 1 Axes>"
      ]
     },
     "metadata": {
      "needs_background": "light"
     },
     "output_type": "display_data"
    }
   ],
   "source": [
    "question = \"How many matches have contacted you to set up a date?\"\n",
    "answers = df.you_call.unique()\n",
    "answers.sort()\n",
    "agg_plot(question, 'them_cal', \"gender\", answers, new_legend)"
   ]
  },
  {
   "cell_type": "markdown",
   "metadata": {},
   "source": [
    "It appears that participants do not often contact one another. \n",
    "\n",
    "Ultimately, the goal of this project is: Under what conditions do participants contact each other?\n"
   ]
  }
 ],
 "metadata": {
  "kernelspec": {
   "display_name": "Python 3",
   "language": "python",
   "name": "python3"
  },
  "language_info": {
   "codemirror_mode": {
    "name": "ipython",
    "version": 3
   },
   "file_extension": ".py",
   "mimetype": "text/x-python",
   "name": "python",
   "nbconvert_exporter": "python",
   "pygments_lexer": "ipython3",
   "version": "3.7.6"
  }
 },
 "nbformat": 4,
 "nbformat_minor": 4
}
